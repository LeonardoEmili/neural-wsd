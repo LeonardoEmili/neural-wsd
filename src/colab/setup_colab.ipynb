{
 "cells": [
  {
   "cell_type": "markdown",
   "metadata": {},
   "source": [
    "# Google Colab + VSCode"
   ]
  },
  {
   "cell_type": "code",
   "execution_count": null,
   "metadata": {
    "colab": {
     "base_uri": "https://localhost:8080/"
    },
    "id": "yxChFURdSJfQ",
    "outputId": "09dde9a4-528c-4557-e1b2-2f4a7d0a0578"
   },
   "outputs": [],
   "source": [
    "!nvidia-smi"
   ]
  },
  {
   "cell_type": "code",
   "execution_count": null,
   "metadata": {
    "colab": {
     "base_uri": "https://localhost:8080/",
     "height": 381
    },
    "id": "aqXACjLhFX1C",
    "outputId": "ffce36c3-93e9-41b1-90f7-4211ffbfd122"
   },
   "outputs": [],
   "source": [
    "!pip install -q colab_ssh python-dotenv --upgrade\n",
    "\n",
    "copy_env_from_gdrive = False\n",
    "if copy_env_from_gdrive:\n",
    "    from google.colab import drive\n",
    "\n",
    "    drive.mount(\"/content/drive\")\n",
    "\n",
    "import os\n",
    "from dotenv import load_dotenv\n",
    "\n",
    "load_dotenv()\n",
    "\n",
    "from colab_ssh import launch_ssh_cloudflared, init_git_cloudflared\n",
    "\n",
    "launch_ssh_cloudflared(password=os.getenv(\"CLOUDFLARED_PASSWORD\"))\n",
    "\n",
    "init_git_cloudflared(\n",
    "    repository_url=os.getenv(\"GITHUB_REPO_URL\"),\n",
    "    personal_token=os.getenv(\"GITHUB_PERSONAL_ACCESS_TOKEN\"),\n",
    "    branch=os.getenv(\"GITHUB_BRANCH\"),\n",
    "    email=os.getenv(\"GITHUB_EMAIL\"),\n",
    "    username=os.getenv(\"GITHUB_USERNAME\"),\n",
    ")"
   ]
  },
  {
   "cell_type": "code",
   "execution_count": null,
   "metadata": {
    "colab": {
     "base_uri": "https://localhost:8080/"
    },
    "id": "-tTM1EMGJH0z",
    "outputId": "8839b443-f0a6-4cc8-fea9-180b0b34002c"
   },
   "outputs": [],
   "source": [
    "# Install dependecies and configure bash\n",
    "%%bash\n",
    "source neural-wsd/src/colab/setup.sh\n",
    "echo \"cd /content/neural-wsd/\" >> ~/.bashrc**\n",
    "echo \"source ~/miniconda3/etc/profile.d/conda.sh\" >> ~/.bashrc**\n",
    "echo \"conda activate neural-wsd\" >> ~/.bashrc**"
   ]
  }
 ],
 "metadata": {
  "accelerator": "GPU",
  "colab": {
   "collapsed_sections": [],
   "name": "setup_colab.ipynb",
   "provenance": []
  },
  "kernelspec": {
   "display_name": "Python 3",
   "name": "python3"
  },
  "language_info": {
   "name": "python"
  }
 },
 "nbformat": 4,
 "nbformat_minor": 0
}
